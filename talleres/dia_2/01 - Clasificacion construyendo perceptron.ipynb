{
 "cells": [
  {
   "cell_type": "markdown",
   "metadata": {},
   "source": [
    "# Clasificación construyendo perceptron\n",
    "\n",
    "**Profesor:** Roberto Muñoz <br />\n",
    "**E-mail:** <rmunoz@metricarts.com> <br />\n",
    "\n",
    "**Profesor:** Sebastián Arpón <br />\n",
    "**E-mail:** <rmunoz@metricarts.com> <br />\n",
    "\n",
    "En este taller construiremos un modelo de perceptrón usando funciones básicas de Python.\n",
    "\n",
    "Usaremos un dataset de personas que contiene datos como altura, peso, tamaño del pie y sexo de la persona. El objetivo es construir un modelo predictivo que permita determinar de qué sexo es la persona solamente basado en altura, peso y tamaño del pie."
   ]
  },
  {
   "cell_type": "code",
   "execution_count": 1,
   "metadata": {
    "collapsed": true
   },
   "outputs": [],
   "source": [
    "import numpy as np\n",
    "import matplotlib\n",
    "from matplotlib import pyplot as plt\n",
    "\n",
    "%matplotlib inline"
   ]
  },
  {
   "cell_type": "markdown",
   "metadata": {},
   "source": [
    "Creamos la variable data que contiene tanto los valores de entrada (features) y las etiquetas (labels).\n",
    "\n",
    "La primera columna es la altura en metros, la segunda el peso en kilos y la tercera es el tamaño del pie en metros.\n",
    "\n",
    "La cuarta columna corresponde al sexo. El valor 0 corresponde a hombres y el valor 1 corresponde a mujeres."
   ]
  },
  {
   "cell_type": "code",
   "execution_count": 2,
   "metadata": {
    "collapsed": true
   },
   "outputs": [],
   "source": [
    "data = [[1.81, 0.80, 0.44, 0],\n",
    "        [1.77, 0.70, 0.43, 0],\n",
    "        [1.60, 0.60, 0.38, 1],\n",
    "        [1.54, 0.54, 0.37, 1],\n",
    "        [1.66, 0.65, 0.40, 0],\n",
    "        [1.90, 0.90, 0.47, 0],\n",
    "        [1.75, 0.64, 0.39, 1],\n",
    "        [1.77, 0.70, 0.40, 1],\n",
    "        [1.59, 0.55, 0.37, 1],\n",
    "        [1.71, 0.75, 0.42, 0],\n",
    "        [1.81, 0.85, 0.43, 0]]"
   ]
  },
  {
   "cell_type": "markdown",
   "metadata": {},
   "source": [
    "Numero de registros en la tabla"
   ]
  },
  {
   "cell_type": "code",
   "execution_count": 3,
   "metadata": {},
   "outputs": [
    {
     "data": {
      "text/plain": [
       "11"
      ]
     },
     "execution_count": 3,
     "metadata": {},
     "output_type": "execute_result"
    }
   ],
   "source": [
    "len(data)"
   ]
  },
  {
   "cell_type": "markdown",
   "metadata": {},
   "source": [
    "Extraer tercera fila"
   ]
  },
  {
   "cell_type": "code",
   "execution_count": 4,
   "metadata": {},
   "outputs": [
    {
     "data": {
      "text/plain": [
       "[1.6, 0.6, 0.38, 1]"
      ]
     },
     "execution_count": 4,
     "metadata": {},
     "output_type": "execute_result"
    }
   ],
   "source": [
    "data[2]"
   ]
  },
  {
   "cell_type": "code",
   "execution_count": 7,
   "metadata": {},
   "outputs": [
    {
     "data": {
      "text/plain": [
       "[[1.81, 0.8, 0.44, 0], [1.77, 0.7, 0.43, 0]]"
      ]
     },
     "execution_count": 7,
     "metadata": {},
     "output_type": "execute_result"
    }
   ],
   "source": [
    "data[:2]"
   ]
  },
  {
   "cell_type": "code",
   "execution_count": 8,
   "metadata": {},
   "outputs": [
    {
     "data": {
      "text/plain": [
       "array([[1.81, 0.8 , 0.44, 0.  ],\n",
       "       [1.77, 0.7 , 0.43, 0.  ],\n",
       "       [1.6 , 0.6 , 0.38, 1.  ],\n",
       "       [1.54, 0.54, 0.37, 1.  ],\n",
       "       [1.66, 0.65, 0.4 , 0.  ],\n",
       "       [1.9 , 0.9 , 0.47, 0.  ],\n",
       "       [1.75, 0.64, 0.39, 1.  ],\n",
       "       [1.77, 0.7 , 0.4 , 1.  ],\n",
       "       [1.59, 0.55, 0.37, 1.  ],\n",
       "       [1.71, 0.75, 0.42, 0.  ],\n",
       "       [1.81, 0.85, 0.43, 0.  ]])"
      ]
     },
     "execution_count": 8,
     "metadata": {},
     "output_type": "execute_result"
    }
   ],
   "source": [
    "data_np=np.array(data)\n",
    "data_np"
   ]
  },
  {
   "cell_type": "code",
   "execution_count": 9,
   "metadata": {},
   "outputs": [
    {
     "data": {
      "text/plain": [
       "array([1.81, 1.77, 1.6 , 1.54, 1.66, 1.9 , 1.75, 1.77, 1.59, 1.71, 1.81])"
      ]
     },
     "execution_count": 9,
     "metadata": {},
     "output_type": "execute_result"
    }
   ],
   "source": [
    "data_np[:,0]"
   ]
  },
  {
   "cell_type": "code",
   "execution_count": 10,
   "metadata": {},
   "outputs": [
    {
     "data": {
      "text/plain": [
       "array([0.8 , 0.7 , 0.6 , 0.54, 0.65, 0.9 , 0.64, 0.7 , 0.55, 0.75, 0.85])"
      ]
     },
     "execution_count": 10,
     "metadata": {},
     "output_type": "execute_result"
    }
   ],
   "source": [
    "data_np[:,1]"
   ]
  },
  {
   "cell_type": "code",
   "execution_count": 11,
   "metadata": {},
   "outputs": [
    {
     "data": {
      "text/plain": [
       "array([0.44, 0.43, 0.38, 0.37, 0.4 , 0.47, 0.39, 0.4 , 0.37, 0.42, 0.43])"
      ]
     },
     "execution_count": 11,
     "metadata": {},
     "output_type": "execute_result"
    }
   ],
   "source": [
    "data_np[:,2]"
   ]
  },
  {
   "cell_type": "markdown",
   "metadata": {},
   "source": [
    "Convertimos la columna de sexo en una lista de colores"
   ]
  },
  {
   "cell_type": "code",
   "execution_count": 12,
   "metadata": {},
   "outputs": [
    {
     "data": {
      "text/plain": [
       "array(['red', 'red', 'blue', 'blue', 'red', 'red', 'blue', 'blue', 'blue',\n",
       "       'red', 'red'], dtype='<U4')"
      ]
     },
     "execution_count": 12,
     "metadata": {},
     "output_type": "execute_result"
    }
   ],
   "source": [
    "colors=['red', 'blue']\n",
    "labels=np.array(data_np[:,3], dtype=int)\n",
    "np.array(colors)[labels]"
   ]
  },
  {
   "cell_type": "code",
   "execution_count": 13,
   "metadata": {},
   "outputs": [
    {
     "data": {
      "text/plain": [
       "<matplotlib.legend.Legend at 0x118d5c828>"
      ]
     },
     "execution_count": 13,
     "metadata": {},
     "output_type": "execute_result"
    },
    {
     "data": {
      "image/png": "[encoded data removed]",
      "text/plain": [
       "<Figure size 432x288 with 1 Axes>"
      ]
     },
     "metadata": {
      "needs_background": "light"
     },
     "output_type": "display_data"
    }
   ],
   "source": [
    "plt.scatter(data_np[:,0], data_np[:,1], c=np.array(colors)[labels])\n",
    "\n",
    "plt.xlabel(\"altura\")\n",
    "plt.ylabel(\"peso\")\n",
    "\n",
    "custom_lines = [matplotlib.lines.Line2D([0], [0], color=\"red\", lw=4),\n",
    "                matplotlib.lines.Line2D([0], [0], color=\"blue\", lw=4)]\n",
    "plt.legend(custom_lines, ['Hombre', 'Mujer'])"
   ]
  },
  {
   "cell_type": "code",
   "execution_count": 14,
   "metadata": {},
   "outputs": [
    {
     "data": {
      "text/plain": [
       "<matplotlib.legend.Legend at 0x118d5c7b8>"
      ]
     },
     "execution_count": 14,
     "metadata": {},
     "output_type": "execute_result"
    },
    {
     "data": {
      "image/png": "[encoded data removed]",
      "text/plain": [
       "<Figure size 432x288 with 1 Axes>"
      ]
     },
     "metadata": {
      "needs_background": "light"
     },
     "output_type": "display_data"
    }
   ],
   "source": [
    "plt.scatter(data_np[:,0], data_np[:,2], c=np.array(colors)[labels])\n",
    "\n",
    "plt.xlabel(\"altura\")\n",
    "plt.ylabel(\"calzado\")\n",
    "\n",
    "custom_lines = [matplotlib.lines.Line2D([0], [0], color=\"red\", lw=4),\n",
    "                matplotlib.lines.Line2D([0], [0], color=\"blue\", lw=4)]\n",
    "plt.legend(custom_lines, ['Hombre', 'Mujer'])"
   ]
  },
  {
   "cell_type": "markdown",
   "metadata": {},
   "source": [
    "Definir funcion de activación y derivada"
   ]
  },
  {
   "cell_type": "code",
   "execution_count": 15,
   "metadata": {
    "collapsed": true
   },
   "outputs": [],
   "source": [
    "def sigmoid(x) :\n",
    "    return 1/(1 + np.exp(-x))\n",
    "\n",
    "def sigmoid_p(x) :\n",
    "    return sigmoid(x) * (1-sigmoid(x))"
   ]
  },
  {
   "cell_type": "markdown",
   "metadata": {},
   "source": [
    "Repasamos las ecuaciones matemáticas"
   ]
  },
  {
   "cell_type": "markdown",
   "metadata": {},
   "source": [
    "<img src=\"images/backprop_ff_equations.png\" width=\"600\">"
   ]
  },
  {
   "cell_type": "markdown",
   "metadata": {},
   "source": [
    "Considerando el cálculo para una sola neurona, la función de costo puede calcularse de la siguiente manera:\n",
    "\n",
    "\\begin{equation*}\n",
    "Cost=C(R(Z(XW)))\n",
    "\\end{equation*}\n",
    "\n",
    "Usando la regla de la cadena podemos derivar el Costo con respecto al peso W.\n",
    "\n",
    "\\begin{align*}\n",
    "C′(W)&=C′(R)⋅R′(Z)⋅Z′(W)\\\\\n",
    "&=(ŷ −y)⋅R′(Z)⋅X\n",
    "\\end{align*}"
   ]
  },
  {
   "cell_type": "markdown",
   "metadata": {},
   "source": [
    "Definimos loop de entrenamiento"
   ]
  },
  {
   "cell_type": "code",
   "execution_count": 24,
   "metadata": {},
   "outputs": [
    {
     "data": {
      "text/plain": [
       "[<matplotlib.lines.Line2D at 0x119041f98>]"
      ]
     },
     "execution_count": 24,
     "metadata": {},
     "output_type": "execute_result"
    },
    {
     "data": {
      "image/png": "[encoded data removed]",
      "text/plain": [
       "<Figure size 432x288 with 1 Axes>"
      ]
     },
     "metadata": {
      "needs_background": "light"
     },
     "output_type": "display_data"
    }
   ],
   "source": [
    "# loop de entrenamiento\n",
    "\n",
    "learning_rate = 0.2\n",
    "n_iterations = 1000\n",
    "\n",
    "costs = []\n",
    "\n",
    "w1 = np.random.randn()\n",
    "w2 = np.random.randn()\n",
    "w3 = np.random.randn()\n",
    "b = np.random.randn()\n",
    "\n",
    "for i in range(n_iterations):\n",
    "    random_row = np.random.randint(len(data))\n",
    "    point = data[random_row]\n",
    "    \n",
    "    z = point[0] * w1 + point[1] * w2 + point[2] * w3 + b\n",
    "    prediction = sigmoid(z)\n",
    "    \n",
    "    target = point[3]\n",
    "    cost = np.square(prediction - target)\n",
    "    \n",
    "    dcost_prediction = 2 * (prediction - target)\n",
    "    dprediction_dz = sigmoid_p(z)\n",
    "    \n",
    "    dz_dw1 = point[0]\n",
    "    dz_dw2 = point[1]\n",
    "    dz_dw3 = point[2]\n",
    "    dz_db = 1\n",
    "    \n",
    "    dcost_dz = dcost_prediction * dprediction_dz\n",
    "    \n",
    "    dcost_dw1 = dcost_dz * dz_dw1\n",
    "    dcost_dw2 = dcost_dz * dz_dw2\n",
    "    dcost_dw3 = dcost_dz * dz_dw3\n",
    "    dcost_db = dcost_dz * dz_db\n",
    "    \n",
    "    w1 = w1 - learning_rate * dcost_dw1\n",
    "    w2 = w2 - learning_rate * dcost_dw2\n",
    "    w3 = w3 - learning_rate * dcost_dw3\n",
    "    b = b - learning_rate * dcost_db\n",
    "    \n",
    "    if i % 100 == 0 :\n",
    "        cost_sum = 0\n",
    "        for j in range(len(data)) :\n",
    "            point = data[random_row]\n",
    "            \n",
    "            z = point[0] * w1 + point[1] * w2 + point[2] * w3 + b\n",
    "            prediction = sigmoid(z)\n",
    "            \n",
    "            target = point[3]\n",
    "            cost_sum += np.square(prediction - target)\n",
    "            \n",
    "        costs.append(cost_sum/len(data))\n",
    "\n",
    "plt.plot(costs)"
   ]
  },
  {
   "cell_type": "code",
   "execution_count": 17,
   "metadata": {},
   "outputs": [
    {
     "name": "stdout",
     "output_type": "stream",
     "text": [
      "[1.81, 0.8, 0.44, 0]\n",
      "predicción : 0.26881840225395237\n",
      "[1.77, 0.7, 0.43, 0]\n",
      "predicción : 0.31637903583611865\n",
      "[1.6, 0.6, 0.38, 1]\n",
      "predicción : 0.38787274825674933\n",
      "[1.54, 0.54, 0.37, 1]\n",
      "predicción : 0.42630258266793486\n",
      "[1.66, 0.65, 0.4, 0]\n",
      "predicción : 0.35480475060347505\n",
      "[1.9, 0.9, 0.47, 0]\n",
      "predicción : 0.22020814628736063\n",
      "[1.75, 0.64, 0.39, 1]\n",
      "predicción : 0.3487136862564795\n",
      "[1.77, 0.7, 0.4, 1]\n",
      "predicción : 0.3182702452573908\n",
      "[1.59, 0.55, 0.37, 1]\n",
      "predicción : 0.4145237794894685\n",
      "[1.71, 0.75, 0.42, 0]\n",
      "predicción : 0.30224554734070747\n",
      "[1.81, 0.85, 0.43, 0]\n",
      "predicción : 0.24970160457054055\n"
     ]
    }
   ],
   "source": [
    "# loop de predicciones\n",
    "\n",
    "for i in range(len(data)) :\n",
    "    point = data[i]\n",
    "    print(point)\n",
    "    \n",
    "    z = point[0] * w1 + point[1] * w2 + point[2] * w3 + b\n",
    "    prediction = sigmoid(z)\n",
    "    print(\"predicción : {}\" .format(prediction))"
   ]
  },
  {
   "cell_type": "markdown",
   "metadata": {},
   "source": [
    "Supongamos que llega un nuevo registro y necesitamos determinar a qué sexo pertenece"
   ]
  },
  {
   "cell_type": "code",
   "execution_count": 18,
   "metadata": {
    "collapsed": true
   },
   "outputs": [],
   "source": [
    "point_new = [1.63, 0.60, 0.37]"
   ]
  },
  {
   "cell_type": "code",
   "execution_count": 19,
   "metadata": {},
   "outputs": [
    {
     "data": {
      "text/plain": [
       "0.38460211865211813"
      ]
     },
     "execution_count": 19,
     "metadata": {},
     "output_type": "execute_result"
    }
   ],
   "source": [
    "z = point_new[0] * w1 + point_new[1] * w2 + point_new[2] * w3 + b\n",
    "prediction = sigmoid(z)\n",
    "prediction"
   ]
  },
  {
   "cell_type": "code",
   "execution_count": 20,
   "metadata": {
    "collapsed": true
   },
   "outputs": [],
   "source": [
    "def determinar_sexo(height, weight, shoe_size) :\n",
    "    z = height * w1 + weight * w2 + shoe_size * w3 + b\n",
    "    prediction = sigmoid(z)\n",
    "    print(\"prediction: \", prediction)\n",
    "    if prediction < .5:\n",
    "        print('hombre')\n",
    "    else:\n",
    "        print('mujer')"
   ]
  },
  {
   "cell_type": "code",
   "execution_count": 21,
   "metadata": {},
   "outputs": [
    {
     "name": "stdout",
     "output_type": "stream",
     "text": [
      "prediction:  0.21378078434985204\n",
      "hombre\n"
     ]
    }
   ],
   "source": [
    "determinar_sexo(1.9, 0.9, 0.6)"
   ]
  },
  {
   "cell_type": "code",
   "execution_count": 23,
   "metadata": {},
   "outputs": [
    {
     "name": "stdout",
     "output_type": "stream",
     "text": [
      "prediction:  0.4701832229191021\n",
      "hombre\n"
     ]
    }
   ],
   "source": [
    "determinar_sexo(1.4, 0.49, 0.38)"
   ]
  },
  {
   "cell_type": "code",
   "execution_count": null,
   "metadata": {
    "collapsed": true
   },
   "outputs": [],
   "source": []
  }
 ],
 "metadata": {
  "kernelspec": {
   "display_name": "Deep Learning",
   "language": "python",
   "name": "deep_learning"
  },
  "language_info": {
   "codemirror_mode": {
    "name": "ipython",
    "version": 3
   },
   "file_extension": ".py",
   "mimetype": "text/x-python",
   "name": "python",
   "nbconvert_exporter": "python",
   "pygments_lexer": "ipython3",
   "version": "3.6.8"
  }
 },
 "nbformat": 4,
 "nbformat_minor": 2
}
